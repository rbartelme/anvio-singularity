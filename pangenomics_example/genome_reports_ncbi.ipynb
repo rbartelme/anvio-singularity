{
 "metadata": {
  "language_info": {
   "codemirror_mode": {
    "name": "ipython",
    "version": 3
   },
   "file_extension": ".py",
   "mimetype": "text/x-python",
   "name": "python",
   "nbconvert_exporter": "python",
   "pygments_lexer": "ipython3",
   "version": "3.7.4-final"
  },
  "orig_nbformat": 2,
  "kernelspec": {
   "name": "python3",
   "display_name": "Python 3.7.4 64-bit (conda)",
   "metadata": {
    "interpreter": {
     "hash": "fbb83d12a2df7199348127a83a07374d113ba4cf9d3cc61fac5d6efb575cd8f1"
    }
   }
  }
 },
 "nbformat": 4,
 "nbformat_minor": 2,
 "cells": [
  {
   "source": [
    "# anvi'o pangenomic example data cleaning\n",
    "\n",
    "## Downloding NCBI Microbial Genome Tables from NCBI\n",
    "\n",
    "---\n",
    "\n",
    "### Setup your python environment\n",
    "\n",
    "Run the following cells:\n",
    "\n",
    "1. Install `Bio` and `wget` with pip\n",
    "2. Load libraries"
   ],
   "cell_type": "markdown",
   "metadata": {}
  },
  {
   "cell_type": "code",
   "execution_count": 12,
   "metadata": {},
   "outputs": [],
   "source": [
    "#pip install Bio"
   ]
  },
  {
   "cell_type": "code",
   "execution_count": 13,
   "metadata": {},
   "outputs": [],
   "source": [
    "from Bio import Entrez\n",
    "from Bio import GenBank\n",
    "import wget"
   ]
  },
  {
   "source": [
    "### Download with wget \n",
    "\n",
    "Run the cell bellow to download the latest dataset into your working directory. "
   ],
   "cell_type": "markdown",
   "metadata": {}
  },
  {
   "cell_type": "code",
   "execution_count": 16,
   "metadata": {},
   "outputs": [
    {
     "output_type": "error",
     "ename": "KeyboardInterrupt",
     "evalue": "",
     "traceback": [
      "\u001b[1;31m---------------------------------------------------------------------------\u001b[0m",
      "\u001b[1;31mKeyboardInterrupt\u001b[0m                         Traceback (most recent call last)",
      "\u001b[1;32m<ipython-input-16-fbd899aa8163>\u001b[0m in \u001b[0;36m<module>\u001b[1;34m\u001b[0m\n\u001b[1;32m----> 1\u001b[1;33m \u001b[0mwget\u001b[0m\u001b[1;33m.\u001b[0m\u001b[0mdownload\u001b[0m\u001b[1;33m(\u001b[0m\u001b[1;34m'https://ftp.ncbi.nlm.nih.gov/genomes/GENOME_REPORTS/prokaryotes.txt'\u001b[0m\u001b[1;33m)\u001b[0m\u001b[1;33m\u001b[0m\u001b[1;33m\u001b[0m\u001b[0m\n\u001b[0m",
      "\u001b[1;32m~\\Miniconda3\\lib\\site-packages\\wget.py\u001b[0m in \u001b[0;36mdownload\u001b[1;34m(url, out, bar)\u001b[0m\n\u001b[0;32m    524\u001b[0m     \u001b[1;32melse\u001b[0m\u001b[1;33m:\u001b[0m\u001b[1;33m\u001b[0m\u001b[1;33m\u001b[0m\u001b[0m\n\u001b[0;32m    525\u001b[0m         \u001b[0mbinurl\u001b[0m \u001b[1;33m=\u001b[0m \u001b[0murl\u001b[0m\u001b[1;33m\u001b[0m\u001b[1;33m\u001b[0m\u001b[0m\n\u001b[1;32m--> 526\u001b[1;33m     \u001b[1;33m(\u001b[0m\u001b[0mtmpfile\u001b[0m\u001b[1;33m,\u001b[0m \u001b[0mheaders\u001b[0m\u001b[1;33m)\u001b[0m \u001b[1;33m=\u001b[0m \u001b[0mulib\u001b[0m\u001b[1;33m.\u001b[0m\u001b[0murlretrieve\u001b[0m\u001b[1;33m(\u001b[0m\u001b[0mbinurl\u001b[0m\u001b[1;33m,\u001b[0m \u001b[0mtmpfile\u001b[0m\u001b[1;33m,\u001b[0m \u001b[0mcallback\u001b[0m\u001b[1;33m)\u001b[0m\u001b[1;33m\u001b[0m\u001b[1;33m\u001b[0m\u001b[0m\n\u001b[0m\u001b[0;32m    527\u001b[0m     \u001b[0mfilename\u001b[0m \u001b[1;33m=\u001b[0m \u001b[0mdetect_filename\u001b[0m\u001b[1;33m(\u001b[0m\u001b[0murl\u001b[0m\u001b[1;33m,\u001b[0m \u001b[0mout\u001b[0m\u001b[1;33m,\u001b[0m \u001b[0mheaders\u001b[0m\u001b[1;33m)\u001b[0m\u001b[1;33m\u001b[0m\u001b[1;33m\u001b[0m\u001b[0m\n\u001b[0;32m    528\u001b[0m     \u001b[1;32mif\u001b[0m \u001b[0moutdir\u001b[0m\u001b[1;33m:\u001b[0m\u001b[1;33m\u001b[0m\u001b[1;33m\u001b[0m\u001b[0m\n",
      "\u001b[1;32m~\\Miniconda3\\lib\\urllib\\request.py\u001b[0m in \u001b[0;36murlretrieve\u001b[1;34m(url, filename, reporthook, data)\u001b[0m\n\u001b[0;32m    278\u001b[0m                     \u001b[1;32mbreak\u001b[0m\u001b[1;33m\u001b[0m\u001b[1;33m\u001b[0m\u001b[0m\n\u001b[0;32m    279\u001b[0m                 \u001b[0mread\u001b[0m \u001b[1;33m+=\u001b[0m \u001b[0mlen\u001b[0m\u001b[1;33m(\u001b[0m\u001b[0mblock\u001b[0m\u001b[1;33m)\u001b[0m\u001b[1;33m\u001b[0m\u001b[1;33m\u001b[0m\u001b[0m\n\u001b[1;32m--> 280\u001b[1;33m                 \u001b[0mtfp\u001b[0m\u001b[1;33m.\u001b[0m\u001b[0mwrite\u001b[0m\u001b[1;33m(\u001b[0m\u001b[0mblock\u001b[0m\u001b[1;33m)\u001b[0m\u001b[1;33m\u001b[0m\u001b[1;33m\u001b[0m\u001b[0m\n\u001b[0m\u001b[0;32m    281\u001b[0m                 \u001b[0mblocknum\u001b[0m \u001b[1;33m+=\u001b[0m \u001b[1;36m1\u001b[0m\u001b[1;33m\u001b[0m\u001b[1;33m\u001b[0m\u001b[0m\n\u001b[0;32m    282\u001b[0m                 \u001b[1;32mif\u001b[0m \u001b[0mreporthook\u001b[0m\u001b[1;33m:\u001b[0m\u001b[1;33m\u001b[0m\u001b[1;33m\u001b[0m\u001b[0m\n",
      "\u001b[1;31mKeyboardInterrupt\u001b[0m: "
     ]
    }
   ],
   "source": [
    "wget.download('https://ftp.ncbi.nlm.nih.gov/genomes/GENOME_REPORTS/prokaryotes.txt')"
   ]
  },
  {
   "cell_type": "code",
   "execution_count": 15,
   "metadata": {},
   "outputs": [
    {
     "output_type": "execute_result",
     "data": {
      "text/plain": [
       "                 #Species/genus  Genomes  \\\n",
       "0          Acinetobacter pittii      202   \n",
       "1          Aeromonas hydrophila       73   \n",
       "2          Agrobacterium fabrum        6   \n",
       "3           Aliivibrio fischeri       34   \n",
       "4    Amycolatopsis mediterranei        7   \n",
       "..                          ...      ...   \n",
       "115             Vibrio cholerae     1002   \n",
       "116     Vibrio parahaemolyticus      872   \n",
       "117      Xanthomonas campestris       94   \n",
       "118     Yersinia enterocolitica      181   \n",
       "119             Yersinia pestis      378   \n",
       "\n",
       "                                         Organism name  \\\n",
       "0                          Acinetobacter pittii PHEA-2   \n",
       "1     Aeromonas hydrophila subsp. hydrophila ATCC 7966   \n",
       "2                        Agrobacterium fabrum str. C58   \n",
       "3                            Aliivibrio fischeri ES114   \n",
       "4                       Amycolatopsis mediterranei U32   \n",
       "..                                                 ...   \n",
       "115       Vibrio cholerae O1 biovar El Tor str. N16961   \n",
       "116               Vibrio parahaemolyticus RIMD 2210633   \n",
       "117  Xanthomonas campestris pv. campestris str. ATC...   \n",
       "118  Yersinia enterocolitica subsp. enterocolitica ...   \n",
       "119                               Yersinia pestis CO92   \n",
       "\n",
       "           Chromosome RefSeq     Chromosome GenBank  \\\n",
       "0                NC_016603.1             CP002177.1   \n",
       "1                NC_008570.1             CP000462.1   \n",
       "2    NC_003063.2,NC_003062.2  AE007870.2,AE007869.2   \n",
       "3    NC_006840.2,NC_006841.2  CP000020.2,CP000021.2   \n",
       "4                NC_014318.1             CP002000.1   \n",
       "..                       ...                    ...   \n",
       "115  NC_002505.1,NC_002506.1  AE003852.1,AE003853.1   \n",
       "116  NC_004605.1,NC_004603.1  BA000032.2,BA000031.2   \n",
       "117              NC_003902.1             AE008922.1   \n",
       "118              NC_008800.1             AM286415.1   \n",
       "119              NC_003143.1             AL590842.1   \n",
       "\n",
       "                          Plasmid RefSeq                   Plasmid GenBank  \\\n",
       "0                                    NaN                               NaN   \n",
       "1                                    NaN                               NaN   \n",
       "2                NC_003064.2,NC_003065.3             AE007872.2,AE007871.2   \n",
       "3                            NC_006842.1                        CP000022.1   \n",
       "4                                    NaN                               NaN   \n",
       "..                                   ...                               ...   \n",
       "115                                  NaN                               NaN   \n",
       "116                                  NaN                               NaN   \n",
       "117                                  NaN                               NaN   \n",
       "118                          NC_008791.1                        AM286416.1   \n",
       "119  NC_003134.1,NC_003132.1,NC_003131.1  AL117211.1,AL109969.1,AL117189.1   \n",
       "\n",
       "     WGS CODE                                            Comment  \\\n",
       "0    NaN  NaN  Genomic analysis of Acinetobacter calcoaceticu...   \n",
       "1    NaN  TYS  Aeromonas hydrophila subsp. hydrophila is an a...   \n",
       "2    NaN  TYS  Agrobacterium fabrum is an important plant pat...   \n",
       "3    NaN  NaN  Vibrio fischeri is a non-pathogenic bacterium ...   \n",
       "4    NaN  NaN  This is the first genomic sequence of Amycolat...   \n",
       "..   ...  ...                                                ...   \n",
       "115  NaN  NaN  Vibrio cholerae is the causative agent of chol...   \n",
       "116  NaN  NaN  Vibrio parahaemolyticus is a worldwide cause o...   \n",
       "117  NaN  TYS  Xanthomonas campestris is a major cause of bla...   \n",
       "118  NaN  NaN  Y. enterocolitica 8081 was originally isolated...   \n",
       "119  NaN  NaN  Y. pestis strain CO92 is a clinical isolate fr...   \n",
       "\n",
       "             PubmedIDs                                      External link  \\\n",
       "0             21441526                                                NaN   \n",
       "1             16980456                                                NaN   \n",
       "2    11743193,11743194  http://depts.washington.edu/agro (Agrobacteriu...   \n",
       "3    15703294,18366731                                                NaN   \n",
       "4             20567260                                                NaN   \n",
       "..                 ...                                                ...   \n",
       "115           10952301                                                NaN   \n",
       "116  10834969,12620739                                                NaN   \n",
       "117           12024217                                                NaN   \n",
       "118  12834539,17173484  http://www.sanger.ac.uk/resources/downloads/ba...   \n",
       "119  11586360,12834539  http://www.sanger.ac.uk/resources/downloads/ba...   \n",
       "\n",
       "         UniProt  \n",
       "0    UP000007477  \n",
       "1    UP000000756  \n",
       "2    UP000000813  \n",
       "3    UP000000537  \n",
       "4    UP000000328  \n",
       "..           ...  \n",
       "115  UP000000584  \n",
       "116  UP000002493  \n",
       "117  UP000001010  \n",
       "118  UP000000642  \n",
       "119  UP000000815  \n",
       "\n",
       "[120 rows x 13 columns]"
      ],
      "text/html": "<div>\n<style scoped>\n    .dataframe tbody tr th:only-of-type {\n        vertical-align: middle;\n    }\n\n    .dataframe tbody tr th {\n        vertical-align: top;\n    }\n\n    .dataframe thead th {\n        text-align: right;\n    }\n</style>\n<table border=\"1\" class=\"dataframe\">\n  <thead>\n    <tr style=\"text-align: right;\">\n      <th></th>\n      <th>#Species/genus</th>\n      <th>Genomes</th>\n      <th>Organism name</th>\n      <th>Chromosome RefSeq</th>\n      <th>Chromosome GenBank</th>\n      <th>Plasmid RefSeq</th>\n      <th>Plasmid GenBank</th>\n      <th>WGS</th>\n      <th>CODE</th>\n      <th>Comment</th>\n      <th>PubmedIDs</th>\n      <th>External link</th>\n      <th>UniProt</th>\n    </tr>\n  </thead>\n  <tbody>\n    <tr>\n      <th>0</th>\n      <td>Acinetobacter pittii</td>\n      <td>202</td>\n      <td>Acinetobacter pittii PHEA-2</td>\n      <td>NC_016603.1</td>\n      <td>CP002177.1</td>\n      <td>NaN</td>\n      <td>NaN</td>\n      <td>NaN</td>\n      <td>NaN</td>\n      <td>Genomic analysis of Acinetobacter calcoaceticu...</td>\n      <td>21441526</td>\n      <td>NaN</td>\n      <td>UP000007477</td>\n    </tr>\n    <tr>\n      <th>1</th>\n      <td>Aeromonas hydrophila</td>\n      <td>73</td>\n      <td>Aeromonas hydrophila subsp. hydrophila ATCC 7966</td>\n      <td>NC_008570.1</td>\n      <td>CP000462.1</td>\n      <td>NaN</td>\n      <td>NaN</td>\n      <td>NaN</td>\n      <td>TYS</td>\n      <td>Aeromonas hydrophila subsp. hydrophila is an a...</td>\n      <td>16980456</td>\n      <td>NaN</td>\n      <td>UP000000756</td>\n    </tr>\n    <tr>\n      <th>2</th>\n      <td>Agrobacterium fabrum</td>\n      <td>6</td>\n      <td>Agrobacterium fabrum str. C58</td>\n      <td>NC_003063.2,NC_003062.2</td>\n      <td>AE007870.2,AE007869.2</td>\n      <td>NC_003064.2,NC_003065.3</td>\n      <td>AE007872.2,AE007871.2</td>\n      <td>NaN</td>\n      <td>TYS</td>\n      <td>Agrobacterium fabrum is an important plant pat...</td>\n      <td>11743193,11743194</td>\n      <td>http://depts.washington.edu/agro (Agrobacteriu...</td>\n      <td>UP000000813</td>\n    </tr>\n    <tr>\n      <th>3</th>\n      <td>Aliivibrio fischeri</td>\n      <td>34</td>\n      <td>Aliivibrio fischeri ES114</td>\n      <td>NC_006840.2,NC_006841.2</td>\n      <td>CP000020.2,CP000021.2</td>\n      <td>NC_006842.1</td>\n      <td>CP000022.1</td>\n      <td>NaN</td>\n      <td>NaN</td>\n      <td>Vibrio fischeri is a non-pathogenic bacterium ...</td>\n      <td>15703294,18366731</td>\n      <td>NaN</td>\n      <td>UP000000537</td>\n    </tr>\n    <tr>\n      <th>4</th>\n      <td>Amycolatopsis mediterranei</td>\n      <td>7</td>\n      <td>Amycolatopsis mediterranei U32</td>\n      <td>NC_014318.1</td>\n      <td>CP002000.1</td>\n      <td>NaN</td>\n      <td>NaN</td>\n      <td>NaN</td>\n      <td>NaN</td>\n      <td>This is the first genomic sequence of Amycolat...</td>\n      <td>20567260</td>\n      <td>NaN</td>\n      <td>UP000000328</td>\n    </tr>\n    <tr>\n      <th>...</th>\n      <td>...</td>\n      <td>...</td>\n      <td>...</td>\n      <td>...</td>\n      <td>...</td>\n      <td>...</td>\n      <td>...</td>\n      <td>...</td>\n      <td>...</td>\n      <td>...</td>\n      <td>...</td>\n      <td>...</td>\n      <td>...</td>\n    </tr>\n    <tr>\n      <th>115</th>\n      <td>Vibrio cholerae</td>\n      <td>1002</td>\n      <td>Vibrio cholerae O1 biovar El Tor str. N16961</td>\n      <td>NC_002505.1,NC_002506.1</td>\n      <td>AE003852.1,AE003853.1</td>\n      <td>NaN</td>\n      <td>NaN</td>\n      <td>NaN</td>\n      <td>NaN</td>\n      <td>Vibrio cholerae is the causative agent of chol...</td>\n      <td>10952301</td>\n      <td>NaN</td>\n      <td>UP000000584</td>\n    </tr>\n    <tr>\n      <th>116</th>\n      <td>Vibrio parahaemolyticus</td>\n      <td>872</td>\n      <td>Vibrio parahaemolyticus RIMD 2210633</td>\n      <td>NC_004605.1,NC_004603.1</td>\n      <td>BA000032.2,BA000031.2</td>\n      <td>NaN</td>\n      <td>NaN</td>\n      <td>NaN</td>\n      <td>NaN</td>\n      <td>Vibrio parahaemolyticus is a worldwide cause o...</td>\n      <td>10834969,12620739</td>\n      <td>NaN</td>\n      <td>UP000002493</td>\n    </tr>\n    <tr>\n      <th>117</th>\n      <td>Xanthomonas campestris</td>\n      <td>94</td>\n      <td>Xanthomonas campestris pv. campestris str. ATC...</td>\n      <td>NC_003902.1</td>\n      <td>AE008922.1</td>\n      <td>NaN</td>\n      <td>NaN</td>\n      <td>NaN</td>\n      <td>TYS</td>\n      <td>Xanthomonas campestris is a major cause of bla...</td>\n      <td>12024217</td>\n      <td>NaN</td>\n      <td>UP000001010</td>\n    </tr>\n    <tr>\n      <th>118</th>\n      <td>Yersinia enterocolitica</td>\n      <td>181</td>\n      <td>Yersinia enterocolitica subsp. enterocolitica ...</td>\n      <td>NC_008800.1</td>\n      <td>AM286415.1</td>\n      <td>NC_008791.1</td>\n      <td>AM286416.1</td>\n      <td>NaN</td>\n      <td>NaN</td>\n      <td>Y. enterocolitica 8081 was originally isolated...</td>\n      <td>12834539,17173484</td>\n      <td>http://www.sanger.ac.uk/resources/downloads/ba...</td>\n      <td>UP000000642</td>\n    </tr>\n    <tr>\n      <th>119</th>\n      <td>Yersinia pestis</td>\n      <td>378</td>\n      <td>Yersinia pestis CO92</td>\n      <td>NC_003143.1</td>\n      <td>AL590842.1</td>\n      <td>NC_003134.1,NC_003132.1,NC_003131.1</td>\n      <td>AL117211.1,AL109969.1,AL117189.1</td>\n      <td>NaN</td>\n      <td>NaN</td>\n      <td>Y. pestis strain CO92 is a clinical isolate fr...</td>\n      <td>11586360,12834539</td>\n      <td>http://www.sanger.ac.uk/resources/downloads/ba...</td>\n      <td>UP000000815</td>\n    </tr>\n  </tbody>\n</table>\n<p>120 rows × 13 columns</p>\n</div>"
     },
     "metadata": {},
     "execution_count": 15
    }
   ],
   "source": [
    "import pandas as pd\n",
    "\n",
    "ref_genomes = pd.read_csv('prok_reference_genomes.txt', sep='\\t')"
   ]
  },
  {
   "cell_type": "code",
   "execution_count": null,
   "metadata": {},
   "outputs": [],
   "source": []
  }
 ]
}